{
 "cells": [
  {
   "cell_type": "markdown",
   "id": "4a8a3e88",
   "metadata": {},
   "source": [
    "# THIS IS A COMMENT"
   ]
  },
  {
   "cell_type": "code",
   "execution_count": 5,
   "id": "725b3b9d",
   "metadata": {},
   "outputs": [
    {
     "name": "stdout",
     "output_type": "stream",
     "text": [
      "my first code\n"
     ]
    }
   ],
   "source": [
    "print(\"my first code\")"
   ]
  },
  {
   "cell_type": "markdown",
   "id": "ca35107c",
   "metadata": {},
   "source": [
    "# This is my first trial on vscode\n",
    "- point 1\n",
    "- point 2"
   ]
  },
  {
   "cell_type": "code",
   "execution_count": 4,
   "id": "3419b66c",
   "metadata": {},
   "outputs": [
    {
     "name": "stdout",
     "output_type": "stream",
     "text": [
      "1\n"
     ]
    }
   ],
   "source": [
    "x=2\n",
    "y=4\n",
    "z=5\n",
    "print(x+y-z)"
   ]
  },
  {
   "cell_type": "code",
   "execution_count": null,
   "id": "12c066ab",
   "metadata": {},
   "outputs": [
    {
     "name": "stdout",
     "output_type": "stream",
     "text": [
      "data\n"
     ]
    }
   ],
   "source": [
    "print (\"data\")"
   ]
  },
  {
   "cell_type": "code",
   "execution_count": 1,
   "id": "ab46aef1",
   "metadata": {},
   "outputs": [
    {
     "name": "stdout",
     "output_type": "stream",
     "text": [
      "hello\n"
     ]
    }
   ],
   "source": [
    "print('hello')"
   ]
  }
 ],
 "metadata": {
  "kernelspec": {
   "display_name": "Python 3 (ipykernel)",
   "language": "python",
   "name": "python3"
  },
  "language_info": {
   "codemirror_mode": {
    "name": "ipython",
    "version": 3
   },
   "file_extension": ".py",
   "mimetype": "text/x-python",
   "name": "python",
   "nbconvert_exporter": "python",
   "pygments_lexer": "ipython3",
   "version": "3.11.4"
  }
 },
 "nbformat": 4,
 "nbformat_minor": 5
}
